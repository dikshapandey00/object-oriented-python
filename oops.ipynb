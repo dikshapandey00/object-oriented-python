{
  "cells": [
    {
      "cell_type": "markdown",
      "metadata": {
        "id": "view-in-github",
        "colab_type": "text"
      },
      "source": [
        "<a href=\"https://colab.research.google.com/github/dikshapandey00/object-oriented-python/blob/main/oops.ipynb\" target=\"_parent\"><img src=\"https://colab.research.google.com/assets/colab-badge.svg\" alt=\"Open In Colab\"/></a>"
      ]
    },
    {
      "cell_type": "markdown",
      "metadata": {
        "id": "V5ffJG_L7X1I"
      },
      "source": [
        "**1.\tExplain the importance of Functions.** <br>\n",
        "\n",
        "**Answer-** <br>\n",
        "Functions are blocks of code specified to do certain task\n",
        "*\t**Code reusability** - Functions reduces the size of code, as by writing function once, then to do some repeated task we only need to call that function, instead of writing whole code again\n",
        "*\t**Modularity** – makes complex problem simpler by dividing it into sub parts .It makes code easier to understand and breaks complex problem into simpler parts plus makes code manageable.\n",
        "*\t**Readability and maintainability** – functions make code readable and maintainable\n",
        "*\tIt makes **testing easier**\n"
      ]
    },
    {
      "cell_type": "markdown",
      "metadata": {
        "id": "69XjTL1A72-f"
      },
      "source": [
        "**2.\tWrite a basic function to greet students.** <br>\n",
        "**Answer-**"
      ]
    },
    {
      "cell_type": "code",
      "execution_count": null,
      "metadata": {
        "colab": {
          "base_uri": "https://localhost:8080/"
        },
        "id": "6nm910uH8O_M",
        "outputId": "4fbd3197-c093-4c70-8522-4d3725bfe317"
      },
      "outputs": [
        {
          "name": "stdout",
          "output_type": "stream",
          "text": [
            "good morning diksha\n"
          ]
        }
      ],
      "source": [
        "def greet(name):\n",
        "     return f\"good morning {name}\"\n",
        "sname = \"diksha\"\n",
        "func = greet(sname)\n",
        "print(func)"
      ]
    },
    {
      "cell_type": "markdown",
      "metadata": {
        "id": "rj6ZWWko8ffv"
      },
      "source": [
        "**3.\tWhat is the difference between print and return statements?**\n",
        "<br>\n",
        "**Answer –**  <br>\n",
        "Print statement shows output on a console window. <br>\n",
        "It does not affect the flow of program.<br>\n",
        "Whereas ‘return’ gives result of a function and it affects the flow of code too. As whenever function counters ‘return’ it return the result and the function’s implementation ends.\n"
      ]
    },
    {
      "cell_type": "markdown",
      "metadata": {
        "id": "X2y850WM8xEn"
      },
      "source": [
        "**4.\tWhat are \\*args and **kwargs?**\n",
        "<br>\n",
        "**Answer-** <br>\n",
        "*\t*args and **kwargs are used in python function for passing arguments.\n",
        "*\t*args stands for ‘argument’ **kwarg stands for ‘keyword argument’\n",
        "*\t*args is used to pass a variable number of positional arguments to a function.\n",
        "*\t**kwargs is used to pass a variable number of keyword arguments to a function.\n",
        "*\t*args allows the function to accept any number of positional arguments, which are then packed into a tuple.\n",
        "*\t**kwargs allows the function to accept any number of keyword arguments, which are then packed into a dictionary\n"
      ]
    },
    {
      "cell_type": "markdown",
      "metadata": {
        "id": "4KeX5eRM9jpF"
      },
      "source": [
        "**5.\tExplain the iterator function.**\n",
        "<br>\n",
        "**Answer-** <br>\n",
        "Iterator is an object used to iterate over any iterable object or we can say sequence of elements.<br>\n",
        "Iterator function have two important method:- <br>\n",
        "*\tIter(obj) – this returns if the passed object is iterabe or not\n",
        "*\tNext(onj) – this returns the next value in sequence\n"
      ]
    },
    {
      "cell_type": "markdown",
      "metadata": {
        "id": "-M4d0KF_93PG"
      },
      "source": [
        "**6.\tWrite a code that generates the squares of numbers from 1 to n using a generator.**\n",
        "<br>\n",
        "**Answer –** <br>\n"
      ]
    },
    {
      "cell_type": "code",
      "execution_count": null,
      "metadata": {
        "colab": {
          "base_uri": "https://localhost:8080/"
        },
        "id": "cvoR24338fCh",
        "outputId": "262f67b3-b27b-43e9-e600-d4b47e40d07d"
      },
      "outputs": [
        {
          "name": "stdout",
          "output_type": "stream",
          "text": [
            "1\n",
            "4\n",
            "9\n",
            "16\n",
            "25\n"
          ]
        }
      ],
      "source": [
        "def sq1n(n):\n",
        "    for i in range(1, n + 1):\n",
        "        yield i**2\n",
        "gen = sq1n(5)\n",
        "for sq in gen:\n",
        "    print(sq)"
      ]
    },
    {
      "cell_type": "markdown",
      "metadata": {
        "id": "VB4dvOn8-vS_"
      },
      "source": [
        "**7.\tWrite a code that generates palindromic numbers up to n using a generator.**\n",
        "<br>\n",
        "**Answer–** <br>\n"
      ]
    },
    {
      "cell_type": "code",
      "execution_count": null,
      "metadata": {
        "colab": {
          "base_uri": "https://localhost:8080/"
        },
        "id": "fs_UwyQ6-fG4",
        "outputId": "6fd7fce8-1e72-42b9-af35-c03471058887"
      },
      "outputs": [
        {
          "name": "stdout",
          "output_type": "stream",
          "text": [
            "1\n",
            "2\n",
            "3\n",
            "4\n",
            "5\n",
            "6\n",
            "7\n",
            "8\n",
            "9\n",
            "11\n",
            "22\n",
            "33\n",
            "44\n"
          ]
        }
      ],
      "source": [
        "def pal(n):\n",
        "    return str(n) == str(n)[::-1]\n",
        "def gen(n):\n",
        "    for i in range(1, n + 1):\n",
        "        if pal(i):\n",
        "            yield i\n",
        "n = 50\n",
        "p = gen(n)\n",
        "for palindrome in p:\n",
        "    print(palindrome)"
      ]
    },
    {
      "cell_type": "markdown",
      "metadata": {
        "id": "AaqRK6Rk_Ft8"
      },
      "source": [
        "**8.\tWrite a code that generates even numbers from 2 to n using a generator.**\n",
        "<br>\n",
        "**Answer –** <br>\n"
      ]
    },
    {
      "cell_type": "code",
      "execution_count": null,
      "metadata": {
        "colab": {
          "base_uri": "https://localhost:8080/"
        },
        "id": "dwGc7AjO_QBL",
        "outputId": "f65092a8-4527-461b-d920-5831c837c5d6"
      },
      "outputs": [
        {
          "name": "stdout",
          "output_type": "stream",
          "text": [
            "2\n",
            "4\n",
            "6\n",
            "8\n",
            "10\n"
          ]
        }
      ],
      "source": [
        "def geven(n):\n",
        "    for i in range(2, n + 1):\n",
        "        if i % 2 == 0:\n",
        "            yield i\n",
        "n = 10\n",
        "g = geven(n)\n",
        "for i in g:\n",
        "    print(i)"
      ]
    },
    {
      "cell_type": "markdown",
      "metadata": {
        "id": "IlxfQN6p_epX"
      },
      "source": [
        "**9.\tWrite a code that generates powers of two up to n using a generator.** <br>\n",
        "**Answer-** <br>\n"
      ]
    },
    {
      "cell_type": "code",
      "execution_count": null,
      "metadata": {
        "colab": {
          "base_uri": "https://localhost:8080/"
        },
        "id": "LG4YdDtC_opY",
        "outputId": "72d2ac2d-c75f-4d33-9092-c0669bd80a8c"
      },
      "outputs": [
        {
          "name": "stdout",
          "output_type": "stream",
          "text": [
            "1\n",
            "2\n",
            "4\n",
            "8\n",
            "16\n",
            "32\n"
          ]
        }
      ],
      "source": [
        "def po2(n):\n",
        "    for i in range(n + 1):\n",
        "        yield 2**i\n",
        "n = 5\n",
        "p = po2(n)\n",
        "for i in p:\n",
        "    print(i)"
      ]
    },
    {
      "cell_type": "markdown",
      "metadata": {
        "id": "WOW6SDk2_zqO"
      },
      "source": [
        "**10.\tWrite a code that generates prime numbers up to n using a generator.**\n",
        "<br>\n",
        "**Answer-** <br>\n"
      ]
    },
    {
      "cell_type": "code",
      "execution_count": null,
      "metadata": {
        "colab": {
          "base_uri": "https://localhost:8080/"
        },
        "id": "JX3uJAiB_thp",
        "outputId": "a6d53774-beae-49f1-eb54-30ea21823b25"
      },
      "outputs": [
        {
          "name": "stdout",
          "output_type": "stream",
          "text": [
            "1\n",
            "2\n",
            "3\n",
            "5\n",
            "7\n",
            "11\n",
            "13\n",
            "17\n",
            "19\n"
          ]
        }
      ],
      "source": [
        "def isp(n):\n",
        "    for i in range(2, n):\n",
        "        if n % i == 0:\n",
        "            return False\n",
        "    return True\n",
        "def pn(n):\n",
        "    for i in range(1, n + 1):\n",
        "        if isp(i):\n",
        "            yield i\n",
        "n = 20\n",
        "p = pn(n)\n",
        "for i in p:\n",
        "    print(i)"
      ]
    },
    {
      "cell_type": "markdown",
      "metadata": {
        "id": "ku4xk9mYAMOn"
      },
      "source": [
        "**11.\tWrite a code that uses a lambda function to calculate the sum of two numbers.**\n",
        "<br>\n",
        "**Answer –** <br>\n"
      ]
    },
    {
      "cell_type": "code",
      "execution_count": null,
      "metadata": {
        "colab": {
          "base_uri": "https://localhost:8080/"
        },
        "id": "ClH_xSwaAQ6N",
        "outputId": "5ab7f974-f07c-48cf-de64-84384d93c61b"
      },
      "outputs": [
        {
          "name": "stdout",
          "output_type": "stream",
          "text": [
            "3\n"
          ]
        }
      ],
      "source": [
        "s = lambda x,y : x + y\n",
        "print(s(1, 2))"
      ]
    },
    {
      "cell_type": "markdown",
      "metadata": {
        "id": "-sDlypVEAXPm"
      },
      "source": [
        "**12.\t Write a code that uses a lambda function to calculate the square of a given number.**\n",
        "<br>\n",
        "**Answer –** <br>\n"
      ]
    },
    {
      "cell_type": "code",
      "execution_count": null,
      "metadata": {
        "colab": {
          "base_uri": "https://localhost:8080/"
        },
        "id": "rFiH5jHrATjf",
        "outputId": "d9e2d078-7abe-41d5-9701-aa9f30d8ff15"
      },
      "outputs": [
        {
          "name": "stdout",
          "output_type": "stream",
          "text": [
            "25\n"
          ]
        }
      ],
      "source": [
        "s = lambda x : x ** 2\n",
        "print(s(5))"
      ]
    },
    {
      "cell_type": "markdown",
      "metadata": {
        "id": "fAIHCiaUAnDO"
      },
      "source": [
        "**13.\tWrite a code that uses a lambda function to check whether a given number is even or odd.**\n",
        "<br>\n",
        "**Answer –** <br>\n"
      ]
    },
    {
      "cell_type": "code",
      "execution_count": null,
      "metadata": {
        "colab": {
          "base_uri": "https://localhost:8080/"
        },
        "id": "ryG5CF4EAuKH",
        "outputId": "a796be30-b276-4140-b090-f6c22fbd9696"
      },
      "outputs": [
        {
          "name": "stdout",
          "output_type": "stream",
          "text": [
            "True\n",
            "False\n"
          ]
        }
      ],
      "source": [
        "s = lambda x: True if x % 2 == 0 else False\n",
        "print(s(4))\n",
        "print(s(5))"
      ]
    },
    {
      "cell_type": "markdown",
      "source": [
        "**14. question not availale.in assingment**"
      ],
      "metadata": {
        "id": "3nlUgoqLS6Af"
      }
    },
    {
      "cell_type": "markdown",
      "metadata": {
        "id": "uffzHHtRA2A8"
      },
      "source": [
        "**15.\tWrite a code that uses a lambda function to concatenate two strings.**\n",
        "<br>\n",
        "**Answer –** <br>\n"
      ]
    },
    {
      "cell_type": "markdown",
      "source": [
        "# New Section"
      ],
      "metadata": {
        "id": "pwsdR71ITUX_"
      }
    },
    {
      "cell_type": "code",
      "execution_count": null,
      "metadata": {
        "colab": {
          "base_uri": "https://localhost:8080/"
        },
        "id": "znG0fmvdAxTp",
        "outputId": "49d991ec-512e-40fe-827b-831e1370228f"
      },
      "outputs": [
        {
          "name": "stdout",
          "output_type": "stream",
          "text": [
            "diksha pandey\n"
          ]
        }
      ],
      "source": [
        "s = lambda x,y: x+y\n",
        "a = \"diksha \"\n",
        "b = \"pandey\"\n",
        "print(s(a,b))"
      ]
    },
    {
      "cell_type": "markdown",
      "metadata": {
        "id": "PfeLVjuqBF_T"
      },
      "source": [
        "**16.\tWrite a code that uses a lambda function to find the maximum of three given numbers.**\n",
        "\n",
        "**Answer –**\n"
      ]
    },
    {
      "cell_type": "code",
      "execution_count": null,
      "metadata": {
        "colab": {
          "base_uri": "https://localhost:8080/"
        },
        "id": "i0IHOLabBB5s",
        "outputId": "1192ef98-f961-4a2d-f94d-8a660be81eb9"
      },
      "outputs": [
        {
          "name": "stdout",
          "output_type": "stream",
          "text": [
            "30\n"
          ]
        }
      ],
      "source": [
        "s = lambda x,y,z: max(x,y,z)\n",
        "a = 10\n",
        "b = 20\n",
        "c = 30\n",
        "print(s(a,b,c))"
      ]
    },
    {
      "cell_type": "markdown",
      "metadata": {
        "id": "tHDu6HmOBTKp"
      },
      "source": [
        "**17.\tWrite a code that generates the squares of even numbers from a given list.**\n",
        "<br>\n",
        "**Answer –** <br>\n"
      ]
    },
    {
      "cell_type": "code",
      "execution_count": null,
      "metadata": {
        "colab": {
          "base_uri": "https://localhost:8080/"
        },
        "id": "45m6GVh_BYUk",
        "outputId": "a3812c24-f4fb-4747-e3c5-6417bc72b953"
      },
      "outputs": [
        {
          "name": "stdout",
          "output_type": "stream",
          "text": [
            "[4, 16, 36]\n"
          ]
        }
      ],
      "source": [
        "s = [1,2,3,4,5,6]\n",
        "sn = [x ** 2 for x in s if x % 2 == 0]\n",
        "print(sn)"
      ]
    },
    {
      "cell_type": "markdown",
      "metadata": {
        "id": "wbQO3kdtBfeE"
      },
      "source": [
        "**18.\tWrite a code that calculates the product of positive numbers from a given list.**\n",
        "\n",
        "**Answer –**\n"
      ]
    },
    {
      "cell_type": "code",
      "execution_count": null,
      "metadata": {
        "colab": {
          "base_uri": "https://localhost:8080/"
        },
        "id": "PQFtnjfyBj3U",
        "outputId": "9c6dc0c3-a5af-4a2d-9a53-717c001d59ba"
      },
      "outputs": [
        {
          "name": "stdout",
          "output_type": "stream",
          "text": [
            "8400\n"
          ]
        }
      ],
      "source": [
        "from functools import reduce\n",
        "numbers = [1, -2, 3, -4, 5, -6, 7, 8, -9, 10]\n",
        "product = reduce(lambda x, y: x * y, [num for num in numbers if num > 0], 1)\n",
        "print(product)"
      ]
    },
    {
      "cell_type": "markdown",
      "metadata": {
        "id": "hHMrOAz-B1pp"
      },
      "source": [
        "**19.\tWrite a code that doubles the values of odd numbers from a given list**\n",
        "\n",
        "**Answer –**\n"
      ]
    },
    {
      "cell_type": "code",
      "execution_count": null,
      "metadata": {
        "colab": {
          "base_uri": "https://localhost:8080/"
        },
        "id": "b9XwkbeOB6qZ",
        "outputId": "25f585a5-bafd-4e45-c58e-8fd3ae0638ff"
      },
      "outputs": [
        {
          "name": "stdout",
          "output_type": "stream",
          "text": [
            "[2, 2, 6, 4, 10, 6]\n"
          ]
        }
      ],
      "source": [
        "num = [1,2,3,4,5,6]\n",
        "d = [x*2 if x % 2 != 0 else x for x in num]\n",
        "print(d)"
      ]
    },
    {
      "cell_type": "markdown",
      "metadata": {
        "id": "hYrfHLA-CChF"
      },
      "source": [
        "**20.\tWrite a code that calculates the sum of cubes of numbers from a given list.**\n",
        "<br>\n",
        "**Answer –** <br>\n"
      ]
    },
    {
      "cell_type": "code",
      "execution_count": null,
      "metadata": {
        "colab": {
          "base_uri": "https://localhost:8080/"
        },
        "id": "KnjifwRiCIeE",
        "outputId": "bba12bb7-b469-4a00-87bc-da9b3100ad36"
      },
      "outputs": [
        {
          "name": "stdout",
          "output_type": "stream",
          "text": [
            "36\n"
          ]
        }
      ],
      "source": [
        "num = [1,2,3]\n",
        "c = sum([n**3 for n in num])\n",
        "print(c)"
      ]
    },
    {
      "cell_type": "markdown",
      "metadata": {
        "id": "hNGusAXlCQw4"
      },
      "source": [
        "**21.\tWrite a code that filters out prime numbers from a given list.**\n",
        "<br>\n",
        "**Answer –** <br>\n"
      ]
    },
    {
      "cell_type": "code",
      "execution_count": null,
      "metadata": {
        "colab": {
          "base_uri": "https://localhost:8080/"
        },
        "id": "99HZxS8fCXtg",
        "outputId": "fc343078-af29-4361-96b9-3b22ce5d4612"
      },
      "outputs": [
        {
          "name": "stdout",
          "output_type": "stream",
          "text": [
            "[1, 2, 3, 5, 7]\n"
          ]
        }
      ],
      "source": [
        "num = [1,2,3,4,5,6,7,8,9]\n",
        "def isprime(n):\n",
        "    for i in range(2, n):\n",
        "        if n % i == 0:\n",
        "            return False\n",
        "    return True\n",
        "s = [n for n in num if isprime(n)]\n",
        "print(s)"
      ]
    },
    {
      "cell_type": "markdown",
      "metadata": {
        "id": "DKS9xAthChnQ"
      },
      "source": [
        "**22.\tWrite a code that uses a lambda function to calculate the sum of two numbers.**\n",
        "<br>\n",
        "**Answer-** <br>\n"
      ]
    },
    {
      "cell_type": "code",
      "execution_count": null,
      "metadata": {
        "colab": {
          "base_uri": "https://localhost:8080/"
        },
        "id": "0ziuOECxCpco",
        "outputId": "a2ecf09f-495a-45f8-a0f2-921930bf72b2"
      },
      "outputs": [
        {
          "name": "stdout",
          "output_type": "stream",
          "text": [
            "3\n"
          ]
        }
      ],
      "source": [
        "s = lambda x,y : x + y\n",
        "print(s(1, 2))"
      ]
    },
    {
      "cell_type": "markdown",
      "metadata": {
        "id": "t2cQmt6ACvXG"
      },
      "source": [
        "**23.\tWrite a code that uses a lambda function to calculate the square of a given number.** <br>\n",
        "**Answer-** <br>"
      ]
    },
    {
      "cell_type": "code",
      "execution_count": null,
      "metadata": {
        "colab": {
          "base_uri": "https://localhost:8080/"
        },
        "id": "RLexvhAZC5Pz",
        "outputId": "218f371b-9ed2-417e-b655-731a07c890a8"
      },
      "outputs": [
        {
          "name": "stdout",
          "output_type": "stream",
          "text": [
            "25\n"
          ]
        }
      ],
      "source": [
        "s = lambda x : x ** 2\n",
        "print(s(5))"
      ]
    },
    {
      "cell_type": "markdown",
      "metadata": {
        "id": "09DRuWs4DAXF"
      },
      "source": [
        "**24.\tWrite a code that uses a lambda function to check whether a given number is even or odd.**\n",
        "<br>\n",
        "**Answer –** <br>\n"
      ]
    },
    {
      "cell_type": "code",
      "execution_count": null,
      "metadata": {
        "colab": {
          "base_uri": "https://localhost:8080/"
        },
        "id": "5WJCWBSRC9Ad",
        "outputId": "a2ed506c-e847-448e-dc70-d4ec541f22a7"
      },
      "outputs": [
        {
          "name": "stdout",
          "output_type": "stream",
          "text": [
            "True\n",
            "False\n"
          ]
        }
      ],
      "source": [
        "s = lambda x: True if x % 2 == 0 else False\n",
        "print(s(4))\n",
        "print(s(5))"
      ]
    },
    {
      "cell_type": "markdown",
      "metadata": {
        "id": "XLE1Dru7DRfO"
      },
      "source": [
        "**25.\tWrite a code that uses a lambda function to concatenate two strings.**\n",
        "<br>\n",
        "**Answer –** <br>\n"
      ]
    },
    {
      "cell_type": "code",
      "execution_count": null,
      "metadata": {
        "colab": {
          "base_uri": "https://localhost:8080/"
        },
        "id": "RDbrkPlzDLKH",
        "outputId": "36615f88-3b17-4106-ca64-53b535e30e14"
      },
      "outputs": [
        {
          "name": "stdout",
          "output_type": "stream",
          "text": [
            "diksha pandey\n"
          ]
        }
      ],
      "source": [
        "s = lambda x,y: x+y\n",
        "a = \"diksha \"\n",
        "b = \"pandey\"\n",
        "print(s(a,b))"
      ]
    },
    {
      "cell_type": "markdown",
      "metadata": {
        "id": "OiIjNGwWDf4B"
      },
      "source": [
        "**26.\tWrite a code that uses a lambda function to find the maximum of three given numbers.**\n",
        "<br>\n",
        "**Answer-** <br>\n"
      ]
    },
    {
      "cell_type": "code",
      "execution_count": null,
      "metadata": {
        "colab": {
          "base_uri": "https://localhost:8080/"
        },
        "id": "QsteJiDxDmEE",
        "outputId": "b4ff4e3b-d1b3-4e98-cc51-2a1ff1056a0a"
      },
      "outputs": [
        {
          "name": "stdout",
          "output_type": "stream",
          "text": [
            "30\n"
          ]
        }
      ],
      "source": [
        "s = lambda x,y,z: max(x,y,z)\n",
        "a = 10\n",
        "b = 20\n",
        "c = 30\n",
        "print(s(a,b,c))"
      ]
    },
    {
      "cell_type": "markdown",
      "metadata": {
        "id": "E2qAk83RDtKm"
      },
      "source": [
        "**27.\tWhat is encapsulation in OOP?**\n",
        "<br>\n",
        "**Answer –** <br>\n",
        "\n",
        "Encapsulation in object-oriented programming involves bundling data and methods together and hiding the internal implementation details from outside code. It ensures that the object's internal state is only accessed through well-defined interfaces, enhancing security, modularity, and maintainability of the code.\n"
      ]
    },
    {
      "cell_type": "markdown",
      "metadata": {
        "id": "34hsDpxCD6sB"
      },
      "source": [
        "**28.\tExplain the use of access modifiers in Python classes.** <br>\n",
        "\n",
        "**Answer –** <br>\n",
        "\n",
        "Access modifiers in Python classes control the **visibility and accessibility** of attributes and methods within a class. They help in managing encapsulation and ensuring data integrity.\n",
        "There are three types of access modifiers-\n",
        "*\t**Public** - Attributes and methods marked as public are accessible from outside the class. They can be accessed directly.\n",
        "*\t**Private** - Attributes and methods marked as private are intended for internal use within the class only. They are prefixed with a double underscore (__).\n",
        "*\t**Protected** - Attributes and methods marked as protected are similar to private members but are prefixed with a single underscore (_). They are intended to be used within the class and its subclasses.\n"
      ]
    },
    {
      "cell_type": "markdown",
      "metadata": {
        "id": "xjE1rRMQEVHp"
      },
      "source": [
        "**29.\tWhat is inheritance in OOP?**\n",
        "\n",
        "**Answer –**\n",
        "\n",
        "Inheritance in object oriented programming allows a class to inherit properties(attributes and methods) of other class. <br>\n",
        "The inheriting class is called child or derived class, and the class which is inherited is know as parent or base class. <br>\n",
        "Inheriting promotes code reusability, enhances maintailibility and enabling hierarchical structures.\n"
      ]
    },
    {
      "cell_type": "markdown",
      "metadata": {
        "id": "UecYdKsGEsx0"
      },
      "source": [
        "**30.\tDefine polymorphism in OOP.**\n",
        "<br>\n",
        "**Answer –** <br>\n",
        "\n",
        "Polymorphism in OOP allows **an object to act differently** at different instances.\n",
        "Polymorphism means one thing taking many forms, it can be achived in two ways that is <br>\n",
        "*\t**Method overloading** – in method overloading(in python), if two functions have same name within same class, then the last defined function works.\n",
        "*\t**Mothod overriding** – in method overriding , two methods of child and parent class have identical name, then in such cases child classes will be more powerful and method of child will be performed.\n"
      ]
    },
    {
      "cell_type": "markdown",
      "metadata": {
        "id": "ni7Q5VvsFJWl"
      },
      "source": [
        "**31.\tExplain method overriding in Python.**\n",
        "<br>\n",
        "**Answer –**\n",
        "<br>\n",
        "Method overriding in python occurs when child class have a method which already exist in parent class. <br>\n",
        "Method overriding is a example of polymorphism,\n",
        "When such condition occurs, where child class has inherited the properties of parent class but a method have similar name in both, subclass is considered more powerful and method of subclass is implemented when object of subclass is called. <br>\n",
        "This helps in creatind difference in subclass and superclass.\n"
      ]
    },
    {
      "cell_type": "markdown",
      "metadata": {
        "id": "V4QOwpDXFeen"
      },
      "source": [
        "**32.\tDefine a parent class Animal with a method make_sound that prints \"Generic animal sound\". Create a child class Dog inheriting from Animal with a method make_sound that prints \"Woof!\".**  \n",
        "\n",
        "**Answer –**\n"
      ]
    },
    {
      "cell_type": "code",
      "execution_count": null,
      "metadata": {
        "id": "UecYhkusErTw"
      },
      "outputs": [],
      "source": [
        "class Animal:\n",
        "    def make_sound():\n",
        "        print(\"Generic animal sound\")\n",
        "class Dog(Animal):\n",
        "    def make_sound():\n",
        "        print(\"Woof!\")"
      ]
    },
    {
      "cell_type": "markdown",
      "metadata": {
        "id": "4juPNdTUGBLL"
      },
      "source": [
        "**33.\tDefine a method move in the Animal class that prints \"Animal moves\". Override the move method in the Dog class to print \"Dog runs.\"**\n",
        "<br>\n",
        "**Answer –** <br>\n"
      ]
    },
    {
      "cell_type": "code",
      "execution_count": null,
      "metadata": {
        "colab": {
          "base_uri": "https://localhost:8080/"
        },
        "id": "HpM1PwmBGJC8",
        "outputId": "5711104f-141d-4c39-f3e5-634ccc5c8d96"
      },
      "outputs": [
        {
          "name": "stdout",
          "output_type": "stream",
          "text": [
            "dog runs\n"
          ]
        }
      ],
      "source": [
        "class Animal:\n",
        "    def move():\n",
        "        print(\"Animal moves\")\n",
        "class Dog:\n",
        "    def make_sound():\n",
        "        print(\"Woof!\")\n",
        "    def move():\n",
        "        print(\"dog runs\")\n",
        "ob = Dog.move()"
      ]
    },
    {
      "cell_type": "markdown",
      "metadata": {
        "id": "86lFoaldGT42"
      },
      "source": [
        "**34.\tCreate a class Mammal with a method reproduce that prints \"Giving birth to live young.\" Create a class DogMammal inheriting from both Dog and Mammal.**\n",
        "<br>\n",
        "**Answer – since class dog was created previously**\n",
        "<br>\n"
      ]
    },
    {
      "cell_type": "code",
      "execution_count": null,
      "metadata": {
        "colab": {
          "base_uri": "https://localhost:8080/"
        },
        "id": "acBdUIb6GcCM",
        "outputId": "acbb81da-b8db-4012-fa90-7b17c41d6871"
      },
      "outputs": [
        {
          "name": "stdout",
          "output_type": "stream",
          "text": [
            "dog runs\n",
            "Giving birth to live young.\n"
          ]
        }
      ],
      "source": [
        "class Mammal:\n",
        "    def reproduce():\n",
        "        print(\"Giving birth to live young.\")\n",
        "class DogMammal(Dog, Mammal):\n",
        "    pass\n",
        "\n",
        "DogMammal.move()\n",
        "DogMammal.reproduce()"
      ]
    },
    {
      "cell_type": "markdown",
      "metadata": {
        "id": "9-h4-3DqGoTY"
      },
      "source": [
        "**35.\tCreate a class German Shepherd inheriting from Dog and override the make_sound method to print \"Bark!\"**\n",
        "<br>\n",
        "**Answer –** <br>\n"
      ]
    },
    {
      "cell_type": "code",
      "execution_count": null,
      "metadata": {
        "colab": {
          "base_uri": "https://localhost:8080/"
        },
        "id": "lRVjRfKqGkGf",
        "outputId": "95e383fc-61e6-455c-dbf5-c68a74fc025b"
      },
      "outputs": [
        {
          "name": "stdout",
          "output_type": "stream",
          "text": [
            "Woof!\n",
            "Bark!\n"
          ]
        }
      ],
      "source": [
        "class Germanshepherd(Dog):\n",
        "    def make_sound():\n",
        "        print(\"Bark!\")\n",
        "Dog.make_sound()\n",
        "Germanshepherd.make_sound()"
      ]
    },
    {
      "cell_type": "markdown",
      "metadata": {
        "id": "bK7UWqzGHO7C"
      },
      "source": [
        "**36.\tDefine constructors in both the Animal and Dog classes with different initialization parameters.**\n",
        "<br>\n",
        "**Answer-** <br>\n"
      ]
    },
    {
      "cell_type": "code",
      "execution_count": null,
      "metadata": {
        "colab": {
          "base_uri": "https://localhost:8080/"
        },
        "id": "xjqL7EftGzWc",
        "outputId": "af8e0466-f746-40fa-c0e6-2c40f025adf0"
      },
      "outputs": [
        {
          "name": "stdout",
          "output_type": "stream",
          "text": [
            "mammal\n",
            "Labrador\n"
          ]
        }
      ],
      "source": [
        "class Animal:\n",
        "    def __init__(self, name):\n",
        "        self.name = name\n",
        "class Dog(Animal):\n",
        "    def __init__(self, breed):\n",
        "        self.breed = breed\n",
        "a = Animal(\"mammal\")\n",
        "b = Dog(\"Labrador\")\n",
        "print(a.name)\n",
        "print(b.breed)"
      ]
    },
    {
      "cell_type": "markdown",
      "metadata": {
        "id": "DUgROyCAHjOM"
      },
      "source": [
        "**37.\tWhat is abstraction in Python? How is it implemented?**\n",
        "<br>\n",
        "**Answer-** <br>\n",
        "Abstraction in Python refers to the concept of hiding complex implementation details and exposing only essential features of an object. It allows you to focus on what an object does, rather than how it does it. <br>\n",
        "In Python, abstraction can be implemented using classes and interfaces (or abstract base classes). <br>\n",
        "*\t**Classes:** These classes contain attributes and methods that represent the properties and behaviors of the abstract concept.\n",
        "*\t**Interface or abstract base class:** blueprint for a group of related classes.\n"
      ]
    },
    {
      "cell_type": "code",
      "execution_count": null,
      "metadata": {
        "colab": {
          "base_uri": "https://localhost:8080/"
        },
        "id": "WokchifKKPbO",
        "outputId": "36afe9d2-70bb-4644-cba6-12f0e335901f"
      },
      "outputs": [
        {
          "data": {
            "text/plain": [
              "78.5"
            ]
          },
          "execution_count": 34,
          "metadata": {},
          "output_type": "execute_result"
        }
      ],
      "source": [
        "import abc\n",
        "class Shape():\n",
        "    @abc.abstractmethod\n",
        "    def area(self):\n",
        "        pass\n",
        "\n",
        "    @abc.abstractmethod\n",
        "    def perimeter(self):\n",
        "        pass\n",
        "\n",
        "class Circle(Shape):\n",
        "    def __init__(self, radius):\n",
        "        self.radius = radius\n",
        "\n",
        "    def area(self):\n",
        "        return 3.14 * self.radius * self.radius\n",
        "\n",
        "    def perimeter(self):\n",
        "        return 2 * 3.14 * self.radius\n",
        "\n",
        "a = Circle(5)\n",
        "a.area()"
      ]
    },
    {
      "cell_type": "markdown",
      "metadata": {
        "id": "ZVFCXirHIQSr"
      },
      "source": [
        "**38.\tExplain the importance of abstraction in object-oriented programming.**\n",
        "<br>\n",
        "**Answer-** <br>\n",
        "Abstraction in object-oriented programming hide the non essential or complex implementation and shows only essential one.\n",
        "*\tCode reusability\n",
        "*\tMaintainable\n",
        "*\tModularity\n",
        "*\tScalability\n",
        "*\tEnhances communication\n"
      ]
    },
    {
      "cell_type": "markdown",
      "metadata": {
        "id": "wklCTqrWK_OY"
      },
      "source": [
        "**39.\tHow are abstract methods different from regular methods in Python?**\n",
        "<br>\n",
        "**Answer-** <br>\n",
        "*\tAbstract methods are defined within abstract classes using the @abstractmethod decorator from the abc module, while regular methods are defined without any special decorator.\n",
        "*\tAbstract methods cannot be directly called on instances of the abstract class; they must be implemented by subclasses first. Regular methods can be directly called on instances of their class.\n",
        "*\tAbstract methods are used to define a common interface for subclasses. Regular methods are used to define the behavior of objects within a class and are typically called on instances of that class.\n"
      ]
    },
    {
      "cell_type": "markdown",
      "metadata": {
        "id": "QZ5jFlDPIpEn"
      },
      "source": [
        "**40.\tHow can you achieve abstraction using interfaces in Python?**\n",
        "<br>\n",
        "**Answer-** <br>\n",
        "\n",
        "In Python, abstraction can be implemented using classes and interfaces (or abstract base classes). <br>\n",
        "*\t**Classes:** These classes contain attributes and methods that represent the properties and behaviors of the abstract concept.\n",
        "*\t**Interface or abstract base class:** blueprint for a group of related classes.<br>\n",
        "\n",
        "**Steps – import abc -> create abstract class -> decorate methods -> create subclass -> implement it.**\n",
        "\n",
        "Here , ‘shape’ is base class, it is blueprint for other classes. And ‘circle’ is the class made from abstract class.\n"
      ]
    },
    {
      "cell_type": "code",
      "execution_count": null,
      "metadata": {
        "colab": {
          "base_uri": "https://localhost:8080/"
        },
        "id": "kkbeGaUnHaBA",
        "outputId": "6bfbc618-e45a-4c95-ef79-634f7c1e4b22"
      },
      "outputs": [
        {
          "data": {
            "text/plain": [
              "78.5"
            ]
          },
          "execution_count": 33,
          "metadata": {},
          "output_type": "execute_result"
        }
      ],
      "source": [
        "import abc\n",
        "class Shape():\n",
        "    @abc.abstractmethod\n",
        "    def area(self):\n",
        "        pass\n",
        "\n",
        "    @abc.abstractmethod\n",
        "    def perimeter(self):\n",
        "        pass\n",
        "\n",
        "class Circle(Shape):\n",
        "    def __init__(self, radius):\n",
        "        self.radius = radius\n",
        "\n",
        "    def area(self):\n",
        "        return 3.14 * self.radius * self.radius\n",
        "\n",
        "    def perimeter(self):\n",
        "        return 2 * 3.14 * self.radius\n",
        "\n",
        "a = Circle(5)\n",
        "a.area()"
      ]
    },
    {
      "cell_type": "markdown",
      "metadata": {
        "id": "sG__dKWzLSQ9"
      },
      "source": [
        "**41.\tCan you provide an example of how abstraction can be utilized to create a common interface for a group of related classes in Python?**\n",
        "<br>\n",
        "**Answer-** <br>\n"
      ]
    },
    {
      "cell_type": "code",
      "execution_count": null,
      "metadata": {
        "colab": {
          "base_uri": "https://localhost:8080/"
        },
        "id": "W6RYlSBRLbJw",
        "outputId": "89bd0dd9-37f2-4a6c-8fd6-5c9b96d59228"
      },
      "outputs": [
        {
          "data": {
            "text/plain": [
              "78.5"
            ]
          },
          "execution_count": 35,
          "metadata": {},
          "output_type": "execute_result"
        }
      ],
      "source": [
        "import abc\n",
        "class Shape():\n",
        "    @abc.abstractmethod\n",
        "    def area(self):\n",
        "        pass\n",
        "\n",
        "    @abc.abstractmethod\n",
        "    def perimeter(self):\n",
        "        pass\n",
        "\n",
        "class Circle(Shape):\n",
        "    def __init__(self, radius):\n",
        "        self.radius = radius\n",
        "\n",
        "    def area(self):\n",
        "        return 3.14 * self.radius * self.radius\n",
        "\n",
        "    def perimeter(self):\n",
        "        return 2 * 3.14 * self.radius\n",
        "\n",
        "a = Circle(5)\n",
        "a.area()"
      ]
    },
    {
      "cell_type": "markdown",
      "metadata": {
        "id": "jPBLJSjALpY1"
      },
      "source": [
        "**42.\tHow does Python achieve polymorphism through method overriding?**\n",
        "<br>\n",
        "**Answer-** <br>\n",
        "Polymorphism in OOP through overriding occurs when parent and child class have method with same name.\n",
        "*\tAt first ,inheritance is done, that is parent and child class made.\n",
        "*\tThen method of same name are defined.\n",
        "*\tPython uses the method resolution order to determine which implementation of a method to use when there are multiple inheritance hierarchies.\n"
      ]
    },
    {
      "cell_type": "markdown",
      "metadata": {
        "id": "7l1X4w0fMAi3"
      },
      "source": [
        "**43.\tDefine a base class with a method and a subclass that overrides the method.**\n",
        "<br>\n",
        "**Answer-** <br>\n",
        "Here, animal is base class and dog is subclass, ‘speak’ is method redefined in class ‘dog’.\n"
      ]
    },
    {
      "cell_type": "code",
      "execution_count": null,
      "metadata": {
        "colab": {
          "base_uri": "https://localhost:8080/"
        },
        "id": "0akpSvCrLh7A",
        "outputId": "d4aea289-ae6d-4e06-d80c-0d0efbf384b5"
      },
      "outputs": [
        {
          "name": "stdout",
          "output_type": "stream",
          "text": [
            "dog barks!\n"
          ]
        }
      ],
      "source": [
        "class Animal:\n",
        "  def speak(self):\n",
        "    return \"speaks\"\n",
        "class Dog(Animal):\n",
        "  def speak(self):\n",
        "    return \"dog barks!\"\n",
        "animal = Animal()\n",
        "dog = Dog()\n",
        "print(dog.speak())"
      ]
    },
    {
      "cell_type": "markdown",
      "metadata": {
        "id": "mI0jobb9M_md"
      },
      "source": [
        "**44.\tDefine a base class and multiple subclasses with overridden methods.**\n",
        "<br>\n",
        "**Answer-** <br>\n"
      ]
    },
    {
      "cell_type": "code",
      "execution_count": null,
      "metadata": {
        "colab": {
          "base_uri": "https://localhost:8080/"
        },
        "id": "aV4mm0vVM8XD",
        "outputId": "12093d80-6101-4d59-bebd-3ebd767fe00d"
      },
      "outputs": [
        {
          "name": "stdout",
          "output_type": "stream",
          "text": [
            "Animal speaks\n",
            "Dog barks\n",
            "Cat meows\n"
          ]
        }
      ],
      "source": [
        "class Animal:\n",
        "    def speak(self):\n",
        "        return \"Animal speaks\"\n",
        "\n",
        "class Dog(Animal):\n",
        "    def speak(self):\n",
        "        return \"Dog barks\"\n",
        "\n",
        "class Cat(Animal):\n",
        "    def speak(self):\n",
        "        return \"Cat meows\"\n",
        "\n",
        "animal = Animal()\n",
        "dog = Dog()\n",
        "cat = Cat()\n",
        "\n",
        "print(animal.speak())\n",
        "print(dog.speak())\n",
        "print(cat.speak())"
      ]
    },
    {
      "cell_type": "markdown",
      "metadata": {
        "id": "KFHjz3tkNTLQ"
      },
      "source": [
        "**45.\tHow does polymorphism improve code readability and reusability?**\n",
        "<br>\n",
        "**Answer-** <br>\n",
        "Polymorphism in Python simplifies code by allowing different objects to be treated similarly, reducing repetition, and enhancing collaboration among developers.<br>\n",
        "In practical terms, it means you can use a single method name to call different methods based on the object's type. This simplifies code and makes it easier to understand and maintain.<br>\n",
        "For instance, you can have different classes like Dog, Cat, and Bird, each with their own make_sound() method. When you call make_sound() on an object, Python figures out which method to execute based on the object's type. <br>\n",
        "This flexibility makes it easier to reuse code across different classes, modify and extend existing code without breaking it, and improve teamwork by providing a common language for developers to work with.\n"
      ]
    },
    {
      "cell_type": "markdown",
      "metadata": {
        "id": "9UPM4zsWNoqd"
      },
      "source": [
        "**46.\tDescribe how Python supports polymorphism with duck typing.**\n",
        "\n",
        "**Answer-**<br> The name Duck Typing comes from the phrase:\n",
        "\n",
        "“If it looks like a duck and quacks like a duck, it’s a duck”<br>\n",
        "Duck typing is a concept in programming that focuses on an object's behavior rather than its type or class.<br>This approach allows different objects to be used interchangeably if they exhibit the required behavior, regardless of their specific types.<br>\n",
        "Duck typing enables flexibility and polymorphism in Python.\n"
      ]
    },
    {
      "cell_type": "markdown",
      "metadata": {
        "id": "3VHuaT7KNzl1"
      },
      "source": [
        "**47.\tHow do you achieve encapsulation in Python?**\n",
        "<br>\n",
        "**Answer-** <br>\n",
        "Encapsulation in object-oriented programming involves bundling data and methods together and hiding the internal implementation details from outside code.\n",
        "Encapsulation in python is achived by “access modifiers”.<br>\n",
        "Access modifiers are made in Python classes control the visibility and accessibility of attributes and methods within a class. They help in managing encapsulation and ensuring data integrity. <br>\n",
        "There are three types of access modifiers- <br>\n",
        "*\tPublic - Attributes and methods marked as public are accessible from outside the class. They can be accessed directly.\n",
        "*\tPrivate - Attributes and methods marked as private are intended for internal use within the class only. They are prefixed with a double underscore (__).\n",
        "*\tProtected - Attributes and methods marked as protected are similar to private members but are prefixed with a single underscore (_). They are intended to be used within the class and its subclasses.\n"
      ]
    },
    {
      "cell_type": "markdown",
      "metadata": {
        "id": "oBLkZUIwOKHk"
      },
      "source": [
        "**48.\tCan encapsulation be bypassed in Python? If so, how?**\n",
        "<br>\n",
        "**Answer-** <br>\n",
        "In python encapsulation **can be bypassed** to some extent due to python’s **dynamic nature** – <br>\n",
        "*\tPrivate accessed from outside the class using name mangling - <br>Python does not have true private members. it's technically possible to access private member. by -\n",
        "\n",
        "```\n",
        "objname._(singleunderscore)Classname__privateattr\n",
        "```\n",
        "<br>\n",
        "\n",
        "*   Using Property Setter Methods\n",
        "*   Using __dict__:\n",
        "Every object in Python has a __dict__ attribute that contains its  attributes and methods. It's possible to directly modify this dictionary to bypass encapsulation.\n",
        "\n",
        "\n",
        "\n",
        "\n",
        "\n"
      ]
    },
    {
      "cell_type": "markdown",
      "metadata": {
        "id": "e7vPwHuiOT1s"
      },
      "source": [
        "**49.\tImplement a class BankAccount with a private balance attribute. Include methods to deposit, withdraw, and check the balance.** <br>\n",
        "**Answer-**"
      ]
    },
    {
      "cell_type": "code",
      "execution_count": null,
      "metadata": {
        "colab": {
          "base_uri": "https://localhost:8080/"
        },
        "id": "gIxOEhheNOI0",
        "outputId": "5b2eb299-75f6-497c-e03f-cb54906572ad"
      },
      "outputs": [
        {
          "name": "stdout",
          "output_type": "stream",
          "text": [
            "600\n"
          ]
        }
      ],
      "source": [
        "class BankAccount:\n",
        "    def __init__(self, balance):\n",
        "        self.__balance = balance\n",
        "\n",
        "    def deposit(self, ammount):\n",
        "        if ammount > 0:\n",
        "            self.__balance += ammount\n",
        "            return True\n",
        "        else:\n",
        "            return False\n",
        "\n",
        "    def withdraw(self, ammount):\n",
        "        if 0 < ammount <= self.__balance:\n",
        "            self.__balance -= ammount\n",
        "            return True\n",
        "        else:\n",
        "            return False\n",
        "\n",
        "    def check_balance(self):\n",
        "        return self.__balance\n",
        "\n",
        "account = BankAccount(1000)\n",
        "account.deposit(100)\n",
        "account.withdraw(500)\n",
        "print(account.check_balance())"
      ]
    },
    {
      "cell_type": "markdown",
      "metadata": {
        "id": "Fo9j5mTZOlmo"
      },
      "source": [
        "**50.\tDevelop a Person class with private attributes name and email, and methods to set and get the email.**\n",
        "<br>\n",
        "**Answer-**\n"
      ]
    },
    {
      "cell_type": "code",
      "execution_count": null,
      "metadata": {
        "colab": {
          "base_uri": "https://localhost:8080/"
        },
        "id": "09lXugpyOqG6",
        "outputId": "7d2e5e8b-8061-4da4-9f8b-078fc89620c7"
      },
      "outputs": [
        {
          "name": "stdout",
          "output_type": "stream",
          "text": [
            "dcs\n"
          ]
        }
      ],
      "source": [
        "class Person:\n",
        "    def __init__(self, name, email):\n",
        "        self.__name = name\n",
        "        self.__email = email\n",
        "\n",
        "    @property\n",
        "    def accessname(self):\n",
        "        return self.__name\n",
        "\n",
        "    @property\n",
        "    def accessemail(self):\n",
        "        return self.__email\n",
        "\n",
        "    @accessname.setter\n",
        "    def accessname(self, name1):\n",
        "        self.__name = name1\n",
        "\n",
        "    @accessemail.setter\n",
        "    def accessemail(self, email1):\n",
        "        if \"@\" in email1:\n",
        "            self.__email = email1\n",
        "        else:\n",
        "            print(\"Invalid email format. Email not updated.\")\n",
        "p = Person(\"dcs\", \"sdf\")\n",
        "print(p.accessname)"
      ]
    },
    {
      "cell_type": "markdown",
      "metadata": {
        "id": "zKVWJ9vAPfzH"
      },
      "source": [
        "**51.\tWhy is encapsulation considered a pillar of object-oriented programming (OOP)?**\n",
        "<br>\n",
        "**Answer-** <br>\n",
        "Encapsulation is considered as pillar of OOP since it provides maintainability to code and binds attributes and methods together in form of class, which is basic unit of object oriented programming and through classes various instances are made. It ensures data integrity by hiding internal state and only exposing necessary functionalities. This principle facilitates easier updates to the internal implementation of classes without affecting other parts of the program, leading to improved security, flexibility, and code organization.\n"
      ]
    },
    {
      "cell_type": "markdown",
      "metadata": {
        "id": "NKzCku8kv7ZH"
      },
      "source": [
        "**52.\tCreate a decorator in Python that adds functionality to a simple function by printing a message before and after the function execution.** <br>\n",
        "\n",
        "**Answer-**<br>\n",
        "**CODE-**<br>\n"
      ]
    },
    {
      "cell_type": "code",
      "execution_count": null,
      "metadata": {
        "colab": {
          "base_uri": "https://localhost:8080/"
        },
        "id": "Ld-RFEorOuw3",
        "outputId": "f601ee37-ea66-4f1e-e18d-993f14eede5f"
      },
      "outputs": [
        {
          "name": "stdout",
          "output_type": "stream",
          "text": [
            "before function\n",
            "hey, innside decorator\n",
            "after function\n"
          ]
        }
      ],
      "source": [
        "def mydecorator(func):\n",
        "    def wrapper():\n",
        "        print(\"before function\")\n",
        "        func()\n",
        "        print(\"after function\")\n",
        "    return wrapper\n",
        "\n",
        "@mydecorator\n",
        "def simplefunction():\n",
        "    print(\"hey, innside decorator\")\n",
        "\n",
        "simplefunction()"
      ]
    },
    {
      "cell_type": "markdown",
      "metadata": {
        "id": "PKh1yt5DwRz7"
      },
      "source": [
        "**53.\tModify the decorater to accept arguments and print the function name along with the message.**\n",
        "\t<br>\n",
        "**Answer-** <br>\n",
        "**CODE-**"
      ]
    },
    {
      "cell_type": "code",
      "execution_count": null,
      "metadata": {
        "colab": {
          "base_uri": "https://localhost:8080/"
        },
        "id": "0zwHMSWnwIz-",
        "outputId": "456d1d33-eaf6-4098-bae7-6952bfd74bb0"
      },
      "outputs": [
        {
          "name": "stdout",
          "output_type": "stream",
          "text": [
            "before function - simplefunction\n",
            "YOOUR MESSAGE, innside decorator\n",
            "after function - simplefunction\n"
          ]
        }
      ],
      "source": [
        "def mydecorator(func):\n",
        "    def wrapper(*args):\n",
        "        print(f\"before function - {func.__name__}\")\n",
        "        func(*args)\n",
        "        print(f\"after function - {func.__name__}\")\n",
        "    return wrapper\n",
        "\n",
        "@mydecorator\n",
        "def simplefunction(message):\n",
        "    print(f\"{message}, innside decorator\")\n",
        "\n",
        "simplefunction(\"YOOUR MESSAGE\")"
      ]
    },
    {
      "cell_type": "markdown",
      "metadata": {
        "id": "0Gmhqw5Jwl14"
      },
      "source": [
        "**54.\tCreate two decorators, and apply them to a single function. Ensure that they execute in the order they are applied.**\n",
        "<br>\n",
        "**Answer-** <br>\n",
        "**CODE-**"
      ]
    },
    {
      "cell_type": "code",
      "execution_count": null,
      "metadata": {
        "colab": {
          "base_uri": "https://localhost:8080/"
        },
        "id": "FhcZ67BSwd2I",
        "outputId": "cfe250af-27b6-45f8-efb7-d45c91e014c9"
      },
      "outputs": [
        {
          "name": "stdout",
          "output_type": "stream",
          "text": [
            "First decorator executed\n",
            "Second decorator executed\n",
            "Function executed\n"
          ]
        }
      ],
      "source": [
        "def first_decorator(func):\n",
        "    def wrapper():\n",
        "        print(\"First decorator executed\")\n",
        "        return func()\n",
        "    return wrapper\n",
        "\n",
        "def second_decorator(func):\n",
        "    def wrapper():\n",
        "        print(\"Second decorator executed\")\n",
        "        return func()\n",
        "    return wrapper\n",
        "\n",
        "@first_decorator\n",
        "@second_decorator\n",
        "def my_function():\n",
        "    print(\"Function executed\")\n",
        "\n",
        "my_function()"
      ]
    },
    {
      "cell_type": "markdown",
      "metadata": {
        "id": "niHhhnkCzSBU"
      },
      "source": [
        "**55.\tModify the decorator to accept and pass function arguments to the wrapped function.**\n",
        "<br>\n",
        "**Answer-**<br>\n",
        "**CODE-**\n"
      ]
    },
    {
      "cell_type": "code",
      "execution_count": null,
      "metadata": {
        "colab": {
          "base_uri": "https://localhost:8080/"
        },
        "id": "rVZN3bgPw7hN",
        "outputId": "fed72626-580f-459c-83ca-6df2f5a30de8"
      },
      "outputs": [
        {
          "name": "stdout",
          "output_type": "stream",
          "text": [
            "First decorator executed\n",
            "Second decorator executed\n",
            "Function executed with:  argument1   argument2\n"
          ]
        }
      ],
      "source": [
        "def first_decorator(func):\n",
        "    def wrapper(a, b):\n",
        "        print(\"First decorator executed\")\n",
        "        return func(a, b)\n",
        "    return wrapper\n",
        "\n",
        "def second_decorator(func):\n",
        "    def wrapper(a, b):\n",
        "        print(\"Second decorator executed\")\n",
        "        return func(a, b)\n",
        "    return wrapper\n",
        "\n",
        "@first_decorator\n",
        "@second_decorator\n",
        "def my_function(arg1, arg2):\n",
        "    print(\"Function executed with: \", arg1, \" \", arg2)\n",
        "\n",
        "my_function(\"argument1\", \"argument2\")"
      ]
    },
    {
      "cell_type": "markdown",
      "metadata": {
        "id": "4yDA723qz3Yi"
      },
      "source": [
        "**56.\tCreate a decorator that preserves the metadata of the original function.**\n",
        "<br>\n",
        "**Answer-**"
      ]
    },
    {
      "cell_type": "code",
      "execution_count": 16,
      "metadata": {
        "id": "YI5IDgdSzeg0",
        "colab": {
          "base_uri": "https://localhost:8080/"
        },
        "outputId": "2557806a-cb84-4ec9-fbf0-c37ec41a12b3"
      },
      "outputs": [
        {
          "output_type": "stream",
          "name": "stdout",
          "text": [
            "my_function\n",
            "This is my function.\n"
          ]
        }
      ],
      "source": [
        "from functools import wraps\n",
        "\n",
        "def pre(func):\n",
        "    \"\"\"Decorator to keep the original function's important information.\"\"\"\n",
        "    @wraps(func)\n",
        "    def wrapper(*args, **kwargs):\n",
        "        return func(*args, **kwargs)\n",
        "    return wrapper\n",
        "\n",
        "@pre\n",
        "def my_function(x):\n",
        "    \"\"\"This is my function.\"\"\"\n",
        "    return x\n",
        "\n",
        "print(my_function.__name__)\n",
        "print(my_function.__doc__)\n"
      ]
    },
    {
      "cell_type": "markdown",
      "metadata": {
        "id": "eGjuipSv0fDN"
      },
      "source": [
        "**57.\tCreate a Python class 'Calculator with a static method 'add' that takes in two numbers and returns their sum.**\n",
        "<br>\n",
        "**Answer-**\n"
      ]
    },
    {
      "cell_type": "code",
      "execution_count": null,
      "metadata": {
        "colab": {
          "base_uri": "https://localhost:8080/"
        },
        "id": "yfavO9yJ0kjb",
        "outputId": "55cb4d04-debb-4600-d90b-eb4f8db57952"
      },
      "outputs": [
        {
          "data": {
            "text/plain": [
              "5"
            ]
          },
          "execution_count": 2,
          "metadata": {},
          "output_type": "execute_result"
        }
      ],
      "source": [
        "class Calculator:\n",
        "  @staticmethod\n",
        "  def add(x, y):\n",
        "    return x+y\n",
        "Calculator.add(2,3)"
      ]
    },
    {
      "cell_type": "markdown",
      "metadata": {
        "id": "MOhCwhNf0ldj"
      },
      "source": [
        "**58.\tCreate a Python class Employee' with a class 'method get_employee_count that returns the total number of employees created.**\n",
        "\n",
        "**Answer-**\n"
      ]
    },
    {
      "cell_type": "code",
      "execution_count": null,
      "metadata": {
        "colab": {
          "base_uri": "https://localhost:8080/"
        },
        "id": "zDC1TCCn0o7M",
        "outputId": "a099c9ec-986a-4e35-f8cb-30c5fa54237b"
      },
      "outputs": [
        {
          "data": {
            "text/plain": [
              "3"
            ]
          },
          "execution_count": 5,
          "metadata": {},
          "output_type": "execute_result"
        }
      ],
      "source": [
        "class Employee:\n",
        "  count = 0\n",
        "\n",
        "  def __init__(self,name):\n",
        "    self.name = name\n",
        "    Employee.count += 1\n",
        "\n",
        "  @classmethod\n",
        "  def get_employee_count(cls):\n",
        "    return cls.count\n",
        "\n",
        "emp1 = Employee(\"a\")\n",
        "emp2 = Employee(\"b\")\n",
        "emp3 = Employee(\"c\")\n",
        "\n",
        "Employee.get_employee_count()"
      ]
    },
    {
      "cell_type": "markdown",
      "metadata": {
        "id": "hLLHd-Zz0pr-"
      },
      "source": [
        "**59.\tCreate a Python class 'StringFormatter with a static method 'reverse_string that takes a string as input and returns its reverse.**\n",
        "\n",
        "**Answer-**\n"
      ]
    },
    {
      "cell_type": "code",
      "execution_count": null,
      "metadata": {
        "colab": {
          "base_uri": "https://localhost:8080/",
          "height": 35
        },
        "id": "J455safQ0uG0",
        "outputId": "a31bd70d-a57d-4d6f-8a02-617fc6806384"
      },
      "outputs": [
        {
          "data": {
            "application/vnd.google.colaboratory.intrinsic+json": {
              "type": "string"
            },
            "text/plain": [
              "'gfedcba'"
            ]
          },
          "execution_count": 6,
          "metadata": {},
          "output_type": "execute_result"
        }
      ],
      "source": [
        "class StringFormatter:\n",
        "\n",
        "  @staticmethod\n",
        "  def reverse_string(s):\n",
        "    return s[::-1]\n",
        "\n",
        "StringFormatter.reverse_string(\"abcdefg\")"
      ]
    },
    {
      "cell_type": "markdown",
      "metadata": {
        "id": "C2GkZuyw0u1Y"
      },
      "source": [
        "**60.\tCreate a Python class 'Circle with a class method calculate_area that calculates the area of a circle given its radius.**\n",
        "\n",
        "**Answer-**\n"
      ]
    },
    {
      "cell_type": "code",
      "execution_count": null,
      "metadata": {
        "colab": {
          "base_uri": "https://localhost:8080/"
        },
        "id": "RaJOM-K90x6b",
        "outputId": "dbb083cc-0a6b-4c96-a4f5-5d570fad5815"
      },
      "outputs": [
        {
          "data": {
            "text/plain": [
              "78.5"
            ]
          },
          "execution_count": 7,
          "metadata": {},
          "output_type": "execute_result"
        }
      ],
      "source": [
        "class Circle:\n",
        "  @classmethod\n",
        "  def calculate_area(cls, r):\n",
        "    return 3.14*r*r\n",
        "\n",
        "Circle.calculate_area(5)"
      ]
    },
    {
      "cell_type": "markdown",
      "metadata": {
        "id": "1eqk8fj20yoM"
      },
      "source": [
        "\n",
        "**61.\tCreate a Python class 'Temperature Converter with a static method celsius_to_fahrenheit that converts Celsius to Fahrenheit.**\n",
        "\n",
        "**Answer-**\n"
      ]
    },
    {
      "cell_type": "code",
      "execution_count": null,
      "metadata": {
        "colab": {
          "base_uri": "https://localhost:8080/"
        },
        "id": "aLbf8aZP02Wu",
        "outputId": "e7ac8761-c681-478b-f53f-3c1126423cf7"
      },
      "outputs": [
        {
          "data": {
            "text/plain": [
              "100.4"
            ]
          },
          "execution_count": 8,
          "metadata": {},
          "output_type": "execute_result"
        }
      ],
      "source": [
        "class Tempratureconvertor:\n",
        "  @staticmethod\n",
        "  def celsius_to_fahrenheit(c):\n",
        "    return (c * 9/5) + 32\n",
        "\n",
        "Tempratureconvertor.celsius_to_fahrenheit(38)"
      ]
    },
    {
      "cell_type": "markdown",
      "metadata": {
        "id": "6AoO0gZw03BT"
      },
      "source": [
        "**62.\tWhat is the purpose of the __str__() method in Python classes? Provide an example.**\n",
        "\n",
        "**Answer-** <br>\n",
        "the \\_\\_str__ method in python class is used to convert an object represented as a string(**human readable format**) when **functions like str() or print() are passed** on that object <br>\n",
        "\n",
        "\n",
        "\n"
      ]
    },
    {
      "cell_type": "code",
      "execution_count": null,
      "metadata": {
        "colab": {
          "base_uri": "https://localhost:8080/"
        },
        "id": "qf0hhcP506XX",
        "outputId": "ef59c29c-eec0-4ed3-f80b-2259fb0f8e75"
      },
      "outputs": [
        {
          "name": "stdout",
          "output_type": "stream",
          "text": [
            "car details\n"
          ]
        }
      ],
      "source": [
        "class Car:\n",
        "    def __init__(self, brand, model):\n",
        "        self.brand = brand\n",
        "        self.model = model\n",
        "\n",
        "    def __str__(self):\n",
        "        return \"car details\"\n",
        "\n",
        "car = Car(\"a\", \"b\")\n",
        "print(car)"
      ]
    },
    {
      "cell_type": "markdown",
      "metadata": {
        "id": "6-d-VKGO07EB"
      },
      "source": [
        "**63.\tHow does the \\_\\_len\\_\\_() method work in Python? Provide an example.**\n",
        "\n",
        "**Answer-** <br>\n",
        "\n",
        "the \\_\\_len__ method is used in class to tell class how to find the length. So, when you use the built-in len() function on an object, Python knows how to find out how \"long\" that object is.\n",
        "<br>\n",
        "it returns the length of the object, which could be the number of elements in a collection, the number of characters in a string, or any other measure of \"length\" that makes sense for the object."
      ]
    },
    {
      "cell_type": "code",
      "execution_count": null,
      "metadata": {
        "colab": {
          "base_uri": "https://localhost:8080/"
        },
        "id": "pd4kKhIT0-Zt",
        "outputId": "c0a708f7-896f-4c8f-dc1b-337a4a3ef4b5"
      },
      "outputs": [
        {
          "name": "stdout",
          "output_type": "stream",
          "text": [
            "3\n"
          ]
        }
      ],
      "source": [
        "class MyList:\n",
        "    def __init__(self, data):\n",
        "        self.data = data\n",
        "    def __len__(self):\n",
        "      return len(self.data)\n",
        "\n",
        "l = MyList([1,2,3])\n",
        "print(len(l))"
      ]
    },
    {
      "cell_type": "markdown",
      "metadata": {
        "id": "f7x1Iqtg0_yr"
      },
      "source": [
        "**64.\tExplain the usage of the \\_\\_add\\_\\_() method in Python classes. Provide an example.**\n",
        "<br>\n",
        "**Answer-** <br>\n",
        "In python \\_\\_add__() is a magic method used to show add behaaviour between instances of class.<br>  It allows you to customize how objects of your class behave when they are added together using the '+' operator. <br> **example-**"
      ]
    },
    {
      "cell_type": "code",
      "execution_count": null,
      "metadata": {
        "id": "N20H1Mpf1MqQ",
        "colab": {
          "base_uri": "https://localhost:8080/"
        },
        "outputId": "dbc3f7c8-bc96-496c-fdb0-fe5dca8679aa"
      },
      "outputs": [
        {
          "output_type": "stream",
          "name": "stdout",
          "text": [
            "(4, 5)\n"
          ]
        }
      ],
      "source": [
        "class Addclass:\n",
        "    def __init__(self, x, y):\n",
        "      self.x = x\n",
        "      self.y = y\n",
        "    def __add__(self, other):\n",
        "      return self.x + other.y, self.y + other.y\n",
        "v1 = Addclass(2,3)\n",
        "v2 = Addclass(2,2)\n",
        "\n",
        "print(v1 + v2)"
      ]
    },
    {
      "cell_type": "markdown",
      "metadata": {
        "id": "i3f2NkQw1E-O"
      },
      "source": [
        "**65.\tWhat is the purpose of the \\_\\_getitem__() method in Python? Provide an example.**\n",
        "\n",
        "**Answer-** <br> the purpose of \\_\\_getitem__() is specify the behaviour of indexing operator when applied to instance of class. <br>\n",
        "it is another type of special or magic method of class. <br>It allows objects of class to support indexing and slicing operations, similar to built-in sequences like lists or tuples <br> **example**"
      ]
    },
    {
      "cell_type": "code",
      "execution_count": null,
      "metadata": {
        "id": "4fSzKKCD1J0c",
        "colab": {
          "base_uri": "https://localhost:8080/"
        },
        "outputId": "429df16f-f3da-4259-8ab7-89caa3489be5"
      },
      "outputs": [
        {
          "output_type": "stream",
          "name": "stdout",
          "text": [
            "4\n"
          ]
        }
      ],
      "source": [
        "class Getexample:\n",
        "  def __init__(self, l):\n",
        "    self.l = l\n",
        "  def __getitem__(self, index):\n",
        "    return self.l[index]\n",
        "list1 = Getexample([1, 2, 3, 4, 5])\n",
        "print(list1[3])"
      ]
    },
    {
      "cell_type": "markdown",
      "metadata": {
        "id": "u34ZYqP81O5T"
      },
      "source": [
        "**66.\tExplain the usage of the \\_\\_iter__() and \\_\\_next__() methods in Python. Provide an example using iterators.**\n",
        "\n",
        "**Answer-**<br> \\_\\_iter__() and \\_\\_next__() are special methods used for iteration<br> \\_\\_iter__() are used to make an object ready for iteration. <br>\n",
        "\\_\\_next__() points to the next elements in sequence.<br> **example**\n"
      ]
    },
    {
      "cell_type": "code",
      "execution_count": null,
      "metadata": {
        "id": "0J_L9UQb1Svr",
        "colab": {
          "base_uri": "https://localhost:8080/"
        },
        "outputId": "806cfc10-a8d2-4245-be74-8ddec236af63"
      },
      "outputs": [
        {
          "output_type": "stream",
          "name": "stdout",
          "text": [
            "1\n",
            "2\n",
            "3\n",
            "4\n",
            "5\n"
          ]
        }
      ],
      "source": [
        "class NumberIterator:\n",
        "    def __init__(self, start, end):\n",
        "        self.current = start\n",
        "        self.end = end\n",
        "\n",
        "    def __iter__(self):\n",
        "        return self\n",
        "\n",
        "    def __next__(self):\n",
        "        if self.current <= self.end:\n",
        "            number = self.current\n",
        "            self.current += 1\n",
        "            return number\n",
        "        else:\n",
        "            raise StopIteration\n",
        "number = NumberIterator(1, 5)\n",
        "\n",
        "for num in number:\n",
        "    print(num)\n"
      ]
    },
    {
      "cell_type": "markdown",
      "metadata": {
        "id": "vA22-q-d1TjE"
      },
      "source": [
        "**67.\tWhat is the purpose of a getter method in Python? Provide an example demonstrating the use of a getter**\n",
        "\n",
        "**Answer-** <br> In Python, a getter method is a method used to retrieve the value of an attribute of an object. <br>The purpose of a getter method is to provide controlled access to attributes of an object.\n",
        "<br> **example**\n"
      ]
    },
    {
      "cell_type": "code",
      "execution_count": 14,
      "metadata": {
        "id": "dbGq1mvh1XwF",
        "colab": {
          "base_uri": "https://localhost:8080/"
        },
        "outputId": "002fec3c-db4f-43b2-d560-ddbd9152300c"
      },
      "outputs": [
        {
          "output_type": "execute_result",
          "data": {
            "text/plain": [
              "67"
            ]
          },
          "metadata": {},
          "execution_count": 14
        }
      ],
      "source": [
        "class Getex:\n",
        "  def __init__(self, v):\n",
        "    self._v = v\n",
        "\n",
        "  @property\n",
        "  def gettervalue(self):\n",
        "    return self._v\n",
        "g = Getex(67)\n",
        "g.gettervalue"
      ]
    },
    {
      "cell_type": "markdown",
      "metadata": {
        "id": "e4Q9y2HY1YfG"
      },
      "source": [
        "**68.\tExplain the role of setter methods in Python. Demonstrate how to use a setter method to modify a class attribute using property decorators.**\n",
        "\n",
        "**Answer-** <br> A setter method is a special function inside a class that is used to change the value of an attribute (a piece of information) in an object.<br>We use setter methods to control how attributes are changed. <br> or create properties with customized setter behavior.<br>**example**\n"
      ]
    },
    {
      "cell_type": "code",
      "execution_count": 12,
      "metadata": {
        "id": "HLsygeAF1bgi",
        "colab": {
          "base_uri": "https://localhost:8080/"
        },
        "outputId": "659fc98b-ed6b-414e-e545-1f6fcc15a550"
      },
      "outputs": [
        {
          "output_type": "stream",
          "name": "stdout",
          "text": [
            "Radius: 5\n",
            "Error: Radius must be a positive number\n"
          ]
        }
      ],
      "source": [
        "class Circle:\n",
        "    def __init__(self, radius):\n",
        "        self._radius = radius\n",
        "\n",
        "    @property\n",
        "    def radius(self):\n",
        "        return self._radius\n",
        "\n",
        "    @radius.setter\n",
        "    def radius(self, value):\n",
        "        if value <= 0:\n",
        "            raise ValueError(\"Radius must be a positive number\")\n",
        "        self._radius = value\n",
        "\n",
        "circle = Circle(5)\n",
        "print(\"Radius:\", circle.radius)\n",
        "\n",
        "try:\n",
        "    circle.radius = -3\n",
        "except ValueError as e:\n",
        "    print(\"Error:\", e)\n"
      ]
    },
    {
      "cell_type": "markdown",
      "metadata": {
        "id": "LP3dH5KT1ck3"
      },
      "source": [
        "**69.\tWhat is the purpose of the @property decorator in Python? Provide an example illustrating its usage.**\n",
        "\n",
        "**Answer-**<br> In Python, the @property decorator is used to define properties in a class. Properties are special attributes that behave like methods but can be accessed like regular attributes.\n",
        "<br>traditionally define getter and setter methods for a class attribute, we have to access it as method ,but with help of property decorator it can be accessed as attribute.<br>**example**\n"
      ]
    },
    {
      "cell_type": "code",
      "execution_count": 6,
      "metadata": {
        "id": "BVb5T9qA1gw-",
        "colab": {
          "base_uri": "https://localhost:8080/"
        },
        "outputId": "bd110803-8433-4e80-ed4b-403b1c9438f0"
      },
      "outputs": [
        {
          "output_type": "execute_result",
          "data": {
            "text/plain": [
              "5"
            ]
          },
          "metadata": {},
          "execution_count": 6
        }
      ],
      "source": [
        "class Prop:\n",
        "    def __init__(self, x):\n",
        "        self._x = x\n",
        "\n",
        "    @property\n",
        "    def propx(self):\n",
        "        return self._x\n",
        "\n",
        "p = Prop(5)\n",
        "p.propx"
      ]
    },
    {
      "cell_type": "markdown",
      "metadata": {
        "id": "7-t8mwsr1hbx"
      },
      "source": [
        "\n",
        "**70.\tExplain the use of the @deleter decorator in Python property decorators. Provide a code example demonstrating its application.**\n",
        "\n",
        "**Answer-**<br> deleter is a method of property decorator used for  defining behavior for deleting an attribute. Here's how you can use the deleter with the property decorator:\n",
        "<br> here i have mentioned deleting behaviour as the name will store 'deleted'"
      ]
    },
    {
      "cell_type": "code",
      "execution_count": 7,
      "metadata": {
        "id": "bOyy9TXs1m4a",
        "colab": {
          "base_uri": "https://localhost:8080/"
        },
        "outputId": "d62f9d2e-fe06-4d0b-bdbc-e4e19396411f"
      },
      "outputs": [
        {
          "output_type": "stream",
          "name": "stdout",
          "text": [
            "Diksha Pandey\n",
            "deleted\n"
          ]
        }
      ],
      "source": [
        "class Name:\n",
        "\tdef __init__(self, n):\n",
        "\t\tself.__name = n\n",
        "\n",
        "\t@property\n",
        "\tdef name(self):\n",
        "\t\treturn self.__name\n",
        "\n",
        "\t@name.deleter\n",
        "\tdef name(self):\n",
        "\t    self.__name = \"deleted\"\n",
        "\n",
        "p = Portal();\n",
        "p.name = 'Diksha Pandey'\n",
        "print (p.name)\n",
        "del p.name\n",
        "print (p.name)\n"
      ]
    },
    {
      "cell_type": "markdown",
      "metadata": {
        "id": "DsjXPTLi1nzF"
      },
      "source": [
        "**71.\tHow does encapsulation relate to property decorators in Python? Provide an example showcasing encapsulation using property decorators.**\n",
        "<br>\n",
        "**Answer-** <br>Encapsulation is a fundamental concept in object-oriented programming that involves bundling data and methods that operate on that data within a single unit or class. <br>We can utilize Python's property decorator to create getter and setter methods for private class variables, which provides a cleaner and more concise way of implementing encapsulation. <br>Here's the modified **example** using property decorator: accessing private attribute using property decorator\n"
      ]
    },
    {
      "cell_type": "code",
      "execution_count": 1,
      "metadata": {
        "id": "rWJc2NM51r1p",
        "colab": {
          "base_uri": "https://localhost:8080/"
        },
        "outputId": "1b72bb45-6fb5-4595-9b86-c32f62b3a0ad"
      },
      "outputs": [
        {
          "output_type": "stream",
          "name": "stdout",
          "text": [
            "67\n"
          ]
        }
      ],
      "source": [
        "class Value:\n",
        "  def __init__(self, val):\n",
        "    self._val = val\n",
        "  @property\n",
        "  def value(self):\n",
        "    return self._val\n",
        "v = Value(67)\n",
        "print(v.value)"
      ]
    },
    {
      "cell_type": "code",
      "source": [],
      "metadata": {
        "id": "hkcWff1OCyJm"
      },
      "execution_count": null,
      "outputs": []
    }
  ],
  "metadata": {
    "colab": {
      "provenance": [],
      "authorship_tag": "ABX9TyOoe2B/2PUpsG8OvLfknS7g",
      "include_colab_link": true
    },
    "kernelspec": {
      "display_name": "Python 3",
      "name": "python3"
    },
    "language_info": {
      "name": "python"
    }
  },
  "nbformat": 4,
  "nbformat_minor": 0
}